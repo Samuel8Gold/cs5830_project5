{
 "cells": [
  {
   "cell_type": "code",
   "execution_count": null,
   "id": "cb2fb8eb-fda4-4d73-bcd5-91ac34778417",
   "metadata": {},
   "outputs": [],
   "source": [
    "import pandas as pd\n",
    "from sklearn.model_selection import train_test_split\n",
    "from sklearn.feature_extraction.text import CountVectorizer\n",
    "from sklearn.naive_bayes import MultinomialNB, GaussianNB\n",
    "from sklearn.metrics import classification_report\n",
    "import string\n",
    "from nltk.tokenize import word_tokenize\n",
    "from nltk.corpus import stopwords\n",
    "from nltk.stem import PorterStemmer\n",
    "import nltk\n",
    "from sklearn.metrics import precision_recall_fscore_support\n",
    "import seaborn as sns\n",
    "from matplotlib import pyplot as plt\n",
    "from sklearn.metrics import classification_report, confusion_matrix\n",
    "\n",
    "nltk.download('punkt')\n"
   ]
  },
  {
   "cell_type": "code",
   "execution_count": null,
   "id": "b82b521a-07ac-4376-a557-8a3d110a06a4",
   "metadata": {},
   "outputs": [],
   "source": [
    "data = pd.read_csv('./data/email.csv')\n",
    "data"
   ]
  },
  {
   "cell_type": "code",
   "execution_count": null,
   "id": "6e755206-0f5a-4549-bda8-cd1bf93b1e14",
   "metadata": {},
   "outputs": [],
   "source": [
    "data['Category'].value_counts()"
   ]
  },
  {
   "cell_type": "code",
   "execution_count": null,
   "id": "4b74f346-f187-4399-a7d0-8be703e2773e",
   "metadata": {},
   "outputs": [],
   "source": [
    "data = data[data['Category'].isin(['ham', 'spam'])]\n",
    "data"
   ]
  },
  {
   "cell_type": "code",
   "execution_count": null,
   "id": "f7af33be-bdd8-4668-8d97-55101d95e78c",
   "metadata": {},
   "outputs": [],
   "source": [
    "duplicate_rows = data.duplicated()\n",
    "num_duplicates = duplicate_rows.sum()\n",
    "print(num_duplicates)"
   ]
  },
  {
   "cell_type": "code",
   "execution_count": null,
   "id": "8ae0d5c6-3441-4a4c-86b3-d5a55d4344c4",
   "metadata": {},
   "outputs": [],
   "source": [
    "data=data.drop_duplicates()\n",
    "data"
   ]
  },
  {
   "cell_type": "code",
   "execution_count": null,
   "id": "05153366-318f-4a80-9b39-2e421ed66c8c",
   "metadata": {},
   "outputs": [],
   "source": [
    "\n",
    "def preprocessed_text(text):\n",
    "    # Lowercase\n",
    "    text = text.lower()\n",
    "    \n",
    "    # Removing punctuation\n",
    "    text = text.translate(str.maketrans('', '', string.punctuation))\n",
    "    \n",
    "    # Tokenization\n",
    "    tokens = word_tokenize(text)\n",
    "    \n",
    "    # Removing stopwords\n",
    "    stop_words = set(stopwords.words('english'))\n",
    "    tokens = [word for word in tokens if word not in stop_words]\n",
    "\n",
    "    # Stemming\n",
    "    stemmer = PorterStemmer()\n",
    "    tokens = [stemmer.stem(word) for word in tokens]\n",
    "    \n",
    "    # \n",
    "    processed_text = ' '.join(tokens)\n",
    "    \n",
    "    return processed_text"
   ]
  },
  {
   "cell_type": "markdown",
   "id": "b33f6b0d-8991-4669-9ea6-e61a8b9a791c",
   "metadata": {},
   "source": [
    "# Data Preprocessing "
   ]
  },
  {
   "cell_type": "code",
   "execution_count": null,
   "id": "17942678-ffcf-4e93-9a2a-d79883057957",
   "metadata": {},
   "outputs": [],
   "source": [
    "data=data.dropna()\n",
    "\n",
    "data['Message'] = data['Message'].apply(preprocessed_text)\n",
    "data['Category'] = data['Category'].map({'ham': 0, 'spam': 1})"
   ]
  },
  {
   "cell_type": "code",
   "execution_count": null,
   "id": "7774a0c7-9d48-4b7b-a54a-fe53952c3cbe",
   "metadata": {
    "scrolled": true
   },
   "outputs": [],
   "source": [
    "print(data)"
   ]
  },
  {
   "cell_type": "markdown",
   "id": "91b2c7db-52e8-49f3-a90b-723f8b8d6222",
   "metadata": {},
   "source": [
    "# Vectorization"
   ]
  },
  {
   "cell_type": "code",
   "execution_count": null,
   "id": "1e3b76c6-e3a1-4c83-8259-def5d49d005a",
   "metadata": {},
   "outputs": [],
   "source": [
    "vectorizer = CountVectorizer()\n",
    "X = vectorizer.fit_transform(data['Message'])\n",
    "y = data['Category']\n",
    "\n",
    "print(\"Unique labels in y_train:\", y.unique())\n",
    "print(\"Data type of y_train:\", y.dtype)"
   ]
  },
  {
   "cell_type": "markdown",
   "id": "76455144",
   "metadata": {},
   "source": [
    "# Model"
   ]
  },
  {
   "cell_type": "code",
   "execution_count": null,
   "id": "116e3e47",
   "metadata": {},
   "outputs": [],
   "source": [
    "def MultinomialNB_model(X_train, y_train, X_test):\n",
    "    classifier = MultinomialNB()\n",
    "    classifier.fit(X_train, y_train)\n",
    "    \n",
    "    y_pred = classifier.predict(X_test)\n",
    "    return y_pred"
   ]
  },
  {
   "cell_type": "markdown",
   "id": "8274532e",
   "metadata": {},
   "source": [
    "# Cross Validation"
   ]
  },
  {
   "cell_type": "code",
   "execution_count": 1,
   "id": "b0503964",
   "metadata": {},
   "outputs": [],
   "source": [
    "def cross_validate(X, y, num_iter=10):\n",
    "    results = {'precision': [], 'recall': [], 'f1': []}\n",
    "    for i in range(num_iter):\n",
    "        X_train, X_test, y_train, y_test = train_test_split(X, y, test_size=0.2)\n",
    "        y_pred = MultinomialNB_model(X_train, y_train, X_test)\n",
    "        p, r, f,_= precision_recall_fscore_support(y_test, y_pred, pos_label=1, average='binary')\n",
    "        results['precision'].append(p)\n",
    "        results['recall'].append(r)\n",
    "        results['f1'].append(f)\n",
    "    return results\n",
    "            "
   ]
  },
  {
   "cell_type": "markdown",
   "id": "14ae21cd-53b3-47d6-950d-af270b5eb16a",
   "metadata": {},
   "source": [
    "# Model Evaluation"
   ]
  },
  {
   "cell_type": "code",
   "execution_count": null,
   "id": "e4063300-c54c-4c6e-b13b-d38371ef9103",
   "metadata": {},
   "outputs": [],
   "source": [
    "results = cross_validate(X, y)\n",
    "print('precision scores:', results[\"precision\"])\n",
    "print('recall scores:', results[\"recall\"])\n",
    "print('f1 scores:', results[\"f1\"])\n",
    "print()\n",
    "print('precision average score:', sum(results[\"precision\"]) / len(results[\"precision\"]))\n",
    "print('recall average score:', sum(results[\"recall\"]) / len(results[\"recall\"]))\n",
    "print('f1 average score:', sum(results[\"f1\"]) / len(results[\"f1\"]))"
   ]
  },
  {
   "cell_type": "markdown",
   "id": "484cf44f-ef4a-440f-99e6-babf082e6974",
   "metadata": {},
   "source": [
    "# Graph Of Model Performance"
   ]
  },
  {
   "cell_type": "code",
   "execution_count": null,
   "id": "0d797302-013d-44a3-8192-6443d6d75e94",
   "metadata": {},
   "outputs": [],
   "source": [
    "X_train, X_test, y_train, y_test = train_test_split(X, y, test_size=0.2)\n",
    "classifier = MultinomialNB()\n",
    "classifier.fit(X_train, y_train)\n",
    "y_pred = MultinomialNB_model(X_train, y_train, X_test)\n",
    "cm = confusion_matrix(y_test, y_pred)\n",
    "sns.heatmap(cm, annot=True, xticklabels=[\"Not Spam\", \"Spam\"], yticklabels=[\"Not Spam\", \"Spam\"])\n",
    "plt.xlabel('Actual label')\n",
    "plt.ylabel('Predicted label');"
   ]
  },
  {
   "cell_type": "markdown",
   "id": "437b6bb0",
   "metadata": {},
   "source": [
    "# Multiple Graphs Of Model Performance"
   ]
  },
  {
   "cell_type": "code",
   "execution_count": null,
   "id": "8d2b9a33",
   "metadata": {},
   "outputs": [],
   "source": [
    "def display_cross_validate(X, y, num_iter=9):\n",
    "    fig, axs = plt.subplots(3, 3, figsize=(30, 20))\n",
    "    plt.suptitle('Heat Map for Each Fold of Cross-Validation')\n",
    "    for i in range(num_iter):\n",
    "        X_train, X_test, y_train, y_test = train_test_split(X, y, test_size=0.2)\n",
    "        classifier = MultinomialNB()\n",
    "        classifier.fit(X_train, y_train)\n",
    "        y_pred = classifier.predict(X_test)\n",
    "        ax = axs[i // 3, i % 3]\n",
    "        cm = confusion_matrix(y_test, y_pred)\n",
    "        sns.heatmap(cm, annot=True, xticklabels=[\"Not Spam\", \"Spam\"], yticklabels=[\"Not Spam\", \"Spam\"], ax=ax)\n",
    "        ax.set_title(f'Fold {i+1}')\n",
    "        ax.set_xlabel('Actual label')\n",
    "        ax.set_ylabel('Predicted label')\n",
    "    plt.show()\n",
    "\n",
    "display_cross_validate(X, y)"
   ]
  }
 ],
 "metadata": {
  "kernelspec": {
   "display_name": "Python 3 (ipykernel)",
   "language": "python",
   "name": "python3"
  },
  "language_info": {
   "codemirror_mode": {
    "name": "ipython",
    "version": 3
   },
   "file_extension": ".py",
   "mimetype": "text/x-python",
   "name": "python",
   "nbconvert_exporter": "python",
   "pygments_lexer": "ipython3",
   "version": "3.12.1"
  }
 },
 "nbformat": 4,
 "nbformat_minor": 5
}
